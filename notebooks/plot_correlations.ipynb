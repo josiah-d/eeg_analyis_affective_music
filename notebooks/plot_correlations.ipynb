{
 "cells": [
  {
   "cell_type": "code",
   "execution_count": 1,
   "id": "d4c78ac0-bc35-424a-98f7-2df0f053859a",
   "metadata": {},
   "outputs": [],
   "source": [
    "# imports\n",
    "import sys\n",
    "sys.path.insert(0, '..')\n",
    "\n",
    "import pandas as pd\n",
    "\n",
    "from src import plot_eeg, load_eeg, load_subjs"
   ]
  },
  {
   "cell_type": "code",
   "execution_count": 3,
   "id": "e8312f77-9a6d-4f80-9ccf-e40d7ff94c8c",
   "metadata": {},
   "outputs": [],
   "source": [
    "# load subject info\n",
    "file_path = '../data/ds002721-download/participants.tsv'\n",
    "subjs = pd.read_csv(file_path, delimiter='\\t')['participant_id'].to_numpy()\n",
    "\n",
    "# plot individual correlation matrices\n",
    "for subj in subjs:\n",
    "    plot_eeg.plot_corrs(subj)\n",
    "\n",
    "# plot all subject correlation matrices\n",
    "plot_eeg.plot_corrs_all(subjs)"
   ]
  },
  {
   "cell_type": "code",
   "execution_count": null,
   "id": "c298b883-f591-4fdb-b7f5-a88f2f6ff1ac",
   "metadata": {},
   "outputs": [],
   "source": []
  }
 ],
 "metadata": {
  "kernelspec": {
   "display_name": "Python 3",
   "language": "python",
   "name": "python3"
  },
  "language_info": {
   "codemirror_mode": {
    "name": "ipython",
    "version": 3
   },
   "file_extension": ".py",
   "mimetype": "text/x-python",
   "name": "python",
   "nbconvert_exporter": "python",
   "pygments_lexer": "ipython3",
   "version": "3.9.5"
  }
 },
 "nbformat": 4,
 "nbformat_minor": 5
}
