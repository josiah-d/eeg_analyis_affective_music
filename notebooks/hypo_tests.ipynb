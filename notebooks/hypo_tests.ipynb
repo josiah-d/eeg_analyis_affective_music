{
 "cells": [
  {
   "cell_type": "code",
   "execution_count": 1,
   "id": "9cdbed3e-f8e6-40c0-9b3b-1befa7c8e984",
   "metadata": {},
   "outputs": [],
   "source": [
    "# imports\n",
    "import matplotlib.pyplot as plt\n",
    "import pandas as pd\n",
    "import scipy.stats as stats\n",
    "from statsmodels.stats.power import TTestIndPower"
   ]
  },
  {
   "cell_type": "code",
   "execution_count": 2,
   "id": "bcbe4930-aa08-415d-a326-ff9a2adcc061",
   "metadata": {},
   "outputs": [],
   "source": [
    "# set ploting parameters\n",
    "plt.rcParams['font.serif'] = 'Ubuntu'\n",
    "plt.rcParams['font.monospace'] = 'Ubuntu Mono'\n",
    "plt.rcParams['font.size'] = 10\n",
    "plt.rcParams['axes.labelsize'] = 10\n",
    "plt.rcParams['axes.titlesize'] = 10\n",
    "plt.rcParams['xtick.labelsize'] = 8\n",
    "plt.rcParams['ytick.labelsize'] = 8\n",
    "plt.rcParams['legend.fontsize'] = 10\n",
    "plt.rcParams['figure.titlesize'] = 12"
   ]
  },
  {
   "cell_type": "code",
   "execution_count": 3,
   "id": "371db7a2-b08e-4f0e-a8e5-4fe13a792ef8",
   "metadata": {},
   "outputs": [],
   "source": [
    "# load data\n",
    "control_filepath = '../data/control_all.csv'\n",
    "epochs_filepath = '../data/epochs_all.csv'\n",
    "\n",
    "control = pd.read_csv(control_filepath)\n",
    "epochs = pd.read_csv(epochs_filepath)"
   ]
  },
  {
   "cell_type": "code",
   "execution_count": 4,
   "id": "e1de7226-cc57-408b-8e1b-f1656eabe4ee",
   "metadata": {},
   "outputs": [],
   "source": [
    "# remove old index\n",
    "control.drop('Unnamed: 0', inplace=True, axis=1)\n",
    "epochs.drop('Unnamed: 0', inplace=True, axis=1)"
   ]
  },
  {
   "cell_type": "code",
   "execution_count": 5,
   "id": "c96bed05-e81d-42ab-bac0-390730650c81",
   "metadata": {},
   "outputs": [],
   "source": [
    "# establish alpha via Bonferroni correction\n",
    "a = 0.05\n",
    "n_test = len(control.columns)\n",
    "a_b = a / n_test"
   ]
  },
  {
   "cell_type": "code",
   "execution_count": 6,
   "id": "f28f659d-9a3e-4698-b538-7ff6e2e40ddb",
   "metadata": {},
   "outputs": [],
   "source": [
    "# perform t test\n",
    "t, p = stats.ttest_ind(control, epochs, equal_var=False)"
   ]
  },
  {
   "cell_type": "code",
   "execution_count": 7,
   "id": "efd1ea21-3c73-4058-9f24-48b8d1e06eec",
   "metadata": {},
   "outputs": [],
   "source": [
    "# build dataframe from t test\n",
    "df = pd.DataFrame([t, p], columns=control.columns, index=['t', 'p'])\n",
    "df = df.T\n",
    "\n",
    "# add signicant result columns\n",
    "df['sig'] = df['p'] < a_b  # note: most p values are too small to be stowed in memory"
   ]
  },
  {
   "cell_type": "code",
   "execution_count": 8,
   "id": "bed5f7c7-2d6f-4a52-b74d-05e4f9d85edf",
   "metadata": {},
   "outputs": [],
   "source": [
    "# calculate power\n",
    "powers = []\n",
    "\n",
    "for col in control.columns:\n",
    "    # extablish arguments\n",
    "    effect_size = (control[col].mean() - epochs[col].mean()) / control[col].std()\n",
    "    nobs1 = len(control)\n",
    "    alpha = 0.05\n",
    "    ratio = len(control[col]) / len(epochs[col])\n",
    "    \n",
    "    # determine power\n",
    "    analysis = TTestIndPower()\n",
    "    result = analysis.power(effect_size=effect_size, nobs1=nobs1, alpha=alpha, ratio=ratio)\n",
    "    powers.append(result)"
   ]
  },
  {
   "cell_type": "code",
   "execution_count": 9,
   "id": "fdb3b4f2-7e9e-4c17-88ea-ec0b471a0b92",
   "metadata": {},
   "outputs": [],
   "source": [
    "# add power to dataframe\n",
    "df['power'] = powers"
   ]
  },
  {
   "cell_type": "code",
   "execution_count": 10,
   "id": "f632bf47-6d4e-4738-abb2-93b5a9a3121f",
   "metadata": {},
   "outputs": [],
   "source": [
    "# assess effect size\n",
    "control_mean = control.mean()\n",
    "epochs_mean = epochs.mean()\n",
    "\n",
    "abs_effect_size = control_mean - epochs_mean\n",
    "relev_effect_size = abs_effect_size / control_mean"
   ]
  },
  {
   "cell_type": "code",
   "execution_count": 11,
   "id": "396d3470-c6a5-4bc9-b875-755bcce93681",
   "metadata": {},
   "outputs": [],
   "source": [
    "# add effect sizes to dataframe\n",
    "df['abs_effect_size'] = abs_effect_size\n",
    "df['relev_effect_size'] = relev_effect_size\n",
    "\n",
    "# save dataframe as html\n",
    "df.to_html('../stats.html')"
   ]
  },
  {
   "cell_type": "code",
   "execution_count": 20,
   "id": "6d7137c4-1ef5-430e-8c90-722f62faf2bf",
   "metadata": {},
   "outputs": [
    {
     "data": {
      "text/plain": [
       "Text(17.200000000000017, 0.5, 'T Statistic')"
      ]
     },
     "execution_count": 20,
     "metadata": {},
     "output_type": "execute_result"
    }
   ],
   "source": [
    "fig, bx = plt.subplots(2, sharex='all', figsize=(16, 9))\n",
    "\n",
    "bx[0].plot(df['relev_effect_size'])\n",
    "bx[1].plot(df['t'])\n",
    "\n",
    "bx[0].set_ylabel('Relative Effect Size')\n",
    "bx[1].set_ylabel('T Statistic')\n",
    "\n",
    "fig.suptitle('Relative Effect Size & T Statistic')\n",
    "plt.savefig('../img/relev_effect_size_t_stat.jpg')"
   ]
  },
  {
   "cell_type": "code",
   "execution_count": null,
   "id": "2e865a00-fc6e-4fba-b01f-19eadea77178",
   "metadata": {},
   "outputs": [],
   "source": []
  }
 ],
 "metadata": {
  "kernelspec": {
   "display_name": "Python 3",
   "language": "python",
   "name": "python3"
  },
  "language_info": {
   "codemirror_mode": {
    "name": "ipython",
    "version": 3
   },
   "file_extension": ".py",
   "mimetype": "text/x-python",
   "name": "python",
   "nbconvert_exporter": "python",
   "pygments_lexer": "ipython3",
   "version": "3.9.5"
  }
 },
 "nbformat": 4,
 "nbformat_minor": 5
}
