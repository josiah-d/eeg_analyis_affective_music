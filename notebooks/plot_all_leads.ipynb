{
 "cells": [
  {
   "cell_type": "code",
   "execution_count": 1,
   "id": "5cefb824-40c0-4132-b18a-da46b30015fa",
   "metadata": {},
   "outputs": [],
   "source": [
    "# imports\n",
    "import sys\n",
    "sys.path.insert(0, '..')\n",
    "\n",
    "import numpy as np\n",
    "import pandas as pd\n",
    "\n",
    "from src import load_subjs"
   ]
  },
  {
   "cell_type": "code",
   "execution_count": 2,
   "id": "e0b9a8d4-f46e-4616-9b25-3baef4852f6b",
   "metadata": {},
   "outputs": [],
   "source": [
    "# load subject and trial information\n",
    "file_path = '../data/ds002721-download/participants.tsv'\n",
    "subjs = pd.read_csv(file_path, delimiter='\\t')['participant_id'].to_numpy()\n",
    "trials = np.array(['task-run1', 'task-run2', 'task-run3', 'task-run4', 'task-run5', 'task-run6'])"
   ]
  },
  {
   "cell_type": "code",
   "execution_count": 4,
   "id": "e1d7b205-767b-4e78-b730-944ec6e728d7",
   "metadata": {},
   "outputs": [],
   "source": [
    "# plot channel eeg data for each subject and trial\n",
    "for subj in subjs:\n",
    "    for trial in trials:\n",
    "        try:\n",
    "            load_subjs.load_all_subjs_epochs(subj, trial, plot=True)\n",
    "        except FileNotFoundError:\n",
    "            pass"
   ]
  },
  {
   "cell_type": "code",
   "execution_count": null,
   "id": "6e1a7421-542f-46a1-95b7-0f2372c37d05",
   "metadata": {},
   "outputs": [],
   "source": []
  }
 ],
 "metadata": {
  "kernelspec": {
   "display_name": "Python 3",
   "language": "python",
   "name": "python3"
  },
  "language_info": {
   "codemirror_mode": {
    "name": "ipython",
    "version": 3
   },
   "file_extension": ".py",
   "mimetype": "text/x-python",
   "name": "python",
   "nbconvert_exporter": "python",
   "pygments_lexer": "ipython3",
   "version": "3.9.5"
  }
 },
 "nbformat": 4,
 "nbformat_minor": 5
}
