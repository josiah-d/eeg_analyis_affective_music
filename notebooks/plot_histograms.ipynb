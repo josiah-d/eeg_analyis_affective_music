{
 "cells": [
  {
   "cell_type": "code",
   "execution_count": 1,
   "id": "6cecec40-e883-4a41-8f0b-2af42e9fd3d4",
   "metadata": {},
   "outputs": [],
   "source": [
    "# imports\n",
    "import sys\n",
    "sys.path.insert(0, '..')\n",
    "\n",
    "import matplotlib.pyplot as plt\n",
    "import pandas as pd\n",
    "\n",
    "from src import plot_eeg"
   ]
  },
  {
   "cell_type": "code",
   "execution_count": 2,
   "id": "0e8515d6-6a2c-4f99-b410-6e5952c5dea3",
   "metadata": {},
   "outputs": [],
   "source": [
    "# load data\n",
    "control_filepath = '../data/control_all.csv'\n",
    "epochs_filepath = '../data/epochs_all.csv'\n",
    "post_epochs_filepath = '../data/post_epochs_all.csv'\n",
    "\n",
    "control = pd.read_csv(control_filepath)\n",
    "epochs = pd.read_csv(epochs_filepath)\n",
    "post_epochs = pd.read_csv(post_epochs_filepath)"
   ]
  },
  {
   "cell_type": "code",
   "execution_count": 3,
   "id": "b6dcf941-ec3a-4d71-8c0d-5616307a8b9b",
   "metadata": {},
   "outputs": [],
   "source": [
    "# remove old index\n",
    "control.drop('Unnamed: 0', inplace=True, axis=1)\n",
    "epochs.drop('Unnamed: 0', inplace=True, axis=1)\n",
    "post_epochs.drop('Unnamed: 0', inplace=True, axis=1)"
   ]
  },
  {
   "cell_type": "code",
   "execution_count": 4,
   "id": "a799f57d-1a80-4f3b-a41a-316356246401",
   "metadata": {},
   "outputs": [],
   "source": [
    "# calc mean by group and channel\n",
    "control_mean = control.mean()\n",
    "epochs_mean = epochs.mean()\n",
    "post_epochs_mean = post_epochs.mean()"
   ]
  },
  {
   "cell_type": "code",
   "execution_count": 6,
   "id": "f9b065e8-1303-428a-a516-128b31c960c4",
   "metadata": {},
   "outputs": [],
   "source": [
    "# plot sensor histograms\n",
    "for col in control.columns:\n",
    "    fig, ax = plt.subplots(3, figsize=(16,12))\n",
    "    fig.suptitle(f'EEG Voltage\\nSensor: {col}')\n",
    "\n",
    "    plot_eeg.eeg_hist(ax[0], control[col], -0.00025, 0.00025, 'Count', 'Without Music', label=col, line_label='Mean')\n",
    "    plot_eeg.eeg_hist(ax[1], epochs[col], -0.00025, 0.00025, 'Count', 'During Music (20s)')\n",
    "    plot_eeg.eeg_hist(ax[2], post_epochs[col], -0.00025, 0.00025, 'Count', 'Immediately Following Music (20s)')\n",
    "\n",
    "    ax[-1].set_xlabel('Volts')\n",
    "\n",
    "    fig.legend(loc='center right')\n",
    "    plt.savefig(f'../img/{col}_eeg_voltages.jpg')"
   ]
  },
  {
   "cell_type": "code",
   "execution_count": 7,
   "id": "95d3c082-aaf9-41e8-8187-f35686c783d9",
   "metadata": {},
   "outputs": [],
   "source": [
    "# plot grouped histogram\n",
    "fig, ax = plt.subplots(3, figsize=(16,12))\n",
    "fig.suptitle('EEG Voltage')\n",
    "\n",
    "plot_eeg.eeg_hist(ax[0], control, -0.00025, 0.00025, 'Count', 'Without Music', label=control.columns)\n",
    "plot_eeg.eeg_hist(ax[1], epochs, -0.00025, 0.00025, 'Count', 'During Music (20s)')\n",
    "plot_eeg.eeg_hist(ax[2], post_epochs, -0.00025, 0.00025, 'Count', 'Immediately Following Music (20s)')\n",
    "\n",
    "ax[-1].set_xlabel('Volts')\n",
    "\n",
    "fig.legend(labels=control.columns, loc='center right')\n",
    "plt.savefig(f'../img/grouped_eeg_voltages.jpg')"
   ]
  },
  {
   "cell_type": "code",
   "execution_count": null,
   "id": "f321256b-4a47-4aca-a901-8f07fa4bc031",
   "metadata": {},
   "outputs": [],
   "source": []
  }
 ],
 "metadata": {
  "kernelspec": {
   "display_name": "Python 3",
   "language": "python",
   "name": "python3"
  },
  "language_info": {
   "codemirror_mode": {
    "name": "ipython",
    "version": 3
   },
   "file_extension": ".py",
   "mimetype": "text/x-python",
   "name": "python",
   "nbconvert_exporter": "python",
   "pygments_lexer": "ipython3",
   "version": "3.9.5"
  }
 },
 "nbformat": 4,
 "nbformat_minor": 5
}
