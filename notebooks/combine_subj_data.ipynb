{
 "cells": [
  {
   "cell_type": "code",
   "execution_count": 1,
   "id": "0b2f0827-e6f8-4ada-9d97-aaa43957b5aa",
   "metadata": {},
   "outputs": [],
   "source": [
    "# imports\n",
    "import sys\n",
    "sys.path.insert(0, '..')\n",
    "\n",
    "import pandas as pd\n",
    "\n",
    "from src import load_subjs"
   ]
  },
  {
   "cell_type": "code",
   "execution_count": 2,
   "id": "e5c8a359-4c47-4602-bdcc-ec066fcfa616",
   "metadata": {},
   "outputs": [],
   "source": [
    "# load subject data\n",
    "file_path = '../data/ds002721-download/participants.tsv'\n",
    "subjs = pd.read_csv(file_path, delimiter='\\t')['participant_id'].to_numpy()"
   ]
  },
  {
   "cell_type": "code",
   "execution_count": 4,
   "id": "f4b8895a-55d4-424e-8f54-d85d24a4e402",
   "metadata": {},
   "outputs": [],
   "source": [
    "# Make a master csv of all subjs by group, e.g. control, epochs, post epochs\n",
    "load_subjs.combine_subj_data(subjs, save=True)"
   ]
  },
  {
   "cell_type": "code",
   "execution_count": null,
   "id": "cbd655d6-0f49-4894-8547-d4517f61d3ff",
   "metadata": {},
   "outputs": [],
   "source": []
  }
 ],
 "metadata": {
  "kernelspec": {
   "display_name": "Python 3",
   "language": "python",
   "name": "python3"
  },
  "language_info": {
   "codemirror_mode": {
    "name": "ipython",
    "version": 3
   },
   "file_extension": ".py",
   "mimetype": "text/x-python",
   "name": "python",
   "nbconvert_exporter": "python",
   "pygments_lexer": "ipython3",
   "version": "3.9.5"
  }
 },
 "nbformat": 4,
 "nbformat_minor": 5
}
