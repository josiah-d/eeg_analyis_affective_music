{
 "cells": [
  {
   "cell_type": "code",
   "execution_count": 62,
   "id": "0431daf4-2a1f-4e7b-995b-c92a85dbb9aa",
   "metadata": {},
   "outputs": [],
   "source": [
    "# imports\n",
    "import pandas as pd\n",
    "import scipy.stats as stats"
   ]
  },
  {
   "cell_type": "code",
   "execution_count": 63,
   "id": "24195bd8-12ea-4f9d-a378-5e012932db85",
   "metadata": {},
   "outputs": [],
   "source": [
    "# load subject data\n",
    "file_path = '../data/ds002721-download/participants.tsv'\n",
    "subjs = pd.read_csv(file_path, delimiter='\\t')"
   ]
  },
  {
   "cell_type": "code",
   "execution_count": 68,
   "id": "e34273d8-8808-4541-a7fd-d488ef4ca465",
   "metadata": {},
   "outputs": [
    {
     "name": "stdout",
     "output_type": "stream",
     "text": [
      "There were 18 females and 13 males.\n"
     ]
    }
   ],
   "source": [
    "# sex demographics\n",
    "sex = subjs.groupby('sex').count()\n",
    "print(f'There were {sex.loc[\"F\"][\"age\"]} females and {sex.loc[\"M\"][\"age\"]} males.')"
   ]
  },
  {
   "cell_type": "code",
   "execution_count": 69,
   "id": "8c996445-0d89-4127-8c29-46fd83018072",
   "metadata": {},
   "outputs": [
    {
     "name": "stdout",
     "output_type": "stream",
     "text": [
      "The subjects' mean age was 39.13 ± 14.48 with a range of 18-66.\n"
     ]
    }
   ],
   "source": [
    "# age demographics\n",
    "mean = subjs['age'].mean()\n",
    "min_ = subjs['age'].min()\n",
    "max_ = subjs['age'].max()\n",
    "std = subjs['age'].std()\n",
    "\n",
    "print(f'The subjects\\' mean age was {round(mean, 2)} ' + u'\\u00B1' + f' {round(std, 2)} with a range of {min_}-{max_}.')"
   ]
  },
  {
   "cell_type": "code",
   "execution_count": null,
   "id": "3cd8b19f-249c-4886-8f8b-66d6f51295ef",
   "metadata": {},
   "outputs": [],
   "source": []
  }
 ],
 "metadata": {
  "kernelspec": {
   "display_name": "Python 3",
   "language": "python",
   "name": "python3"
  },
  "language_info": {
   "codemirror_mode": {
    "name": "ipython",
    "version": 3
   },
   "file_extension": ".py",
   "mimetype": "text/x-python",
   "name": "python",
   "nbconvert_exporter": "python",
   "pygments_lexer": "ipython3",
   "version": "3.9.5"
  }
 },
 "nbformat": 4,
 "nbformat_minor": 5
}
