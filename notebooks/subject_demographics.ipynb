{
 "cells": [
  {
   "cell_type": "code",
   "execution_count": 37,
   "id": "0431daf4-2a1f-4e7b-995b-c92a85dbb9aa",
   "metadata": {},
   "outputs": [],
   "source": [
    "# Imports\n",
    "import pandas as pd\n",
    "import scipy.stats as stats"
   ]
  },
  {
   "cell_type": "code",
   "execution_count": 38,
   "id": "24195bd8-12ea-4f9d-a378-5e012932db85",
   "metadata": {},
   "outputs": [],
   "source": [
    "# Load subject data\n",
    "file_path = '../data/ds002721-download/participants.tsv'\n",
    "subjs = pd.read_csv(file_path, delimiter='\\t')"
   ]
  },
  {
   "cell_type": "code",
   "execution_count": 39,
   "id": "e34273d8-8808-4541-a7fd-d488ef4ca465",
   "metadata": {},
   "outputs": [
    {
     "data": {
      "text/html": [
       "<div>\n",
       "<style scoped>\n",
       "    .dataframe tbody tr th:only-of-type {\n",
       "        vertical-align: middle;\n",
       "    }\n",
       "\n",
       "    .dataframe tbody tr th {\n",
       "        vertical-align: top;\n",
       "    }\n",
       "\n",
       "    .dataframe thead th {\n",
       "        text-align: right;\n",
       "    }\n",
       "</style>\n",
       "<table border=\"1\" class=\"dataframe\">\n",
       "  <thead>\n",
       "    <tr style=\"text-align: right;\">\n",
       "      <th></th>\n",
       "      <th>participant_id</th>\n",
       "      <th>age</th>\n",
       "    </tr>\n",
       "    <tr>\n",
       "      <th>sex</th>\n",
       "      <th></th>\n",
       "      <th></th>\n",
       "    </tr>\n",
       "  </thead>\n",
       "  <tbody>\n",
       "    <tr>\n",
       "      <th>F</th>\n",
       "      <td>18</td>\n",
       "      <td>18</td>\n",
       "    </tr>\n",
       "    <tr>\n",
       "      <th>M</th>\n",
       "      <td>13</td>\n",
       "      <td>13</td>\n",
       "    </tr>\n",
       "  </tbody>\n",
       "</table>\n",
       "</div>"
      ],
      "text/plain": [
       "     participant_id  age\n",
       "sex                     \n",
       "F                18   18\n",
       "M                13   13"
      ]
     },
     "execution_count": 39,
     "metadata": {},
     "output_type": "execute_result"
    }
   ],
   "source": [
    "subjs.groupby('sex').count()"
   ]
  },
  {
   "cell_type": "markdown",
   "id": "2a1d011e-a4e9-4a06-b55f-c4666e7ed88a",
   "metadata": {},
   "source": [
    "There were 18 females and 13 males."
   ]
  },
  {
   "cell_type": "code",
   "execution_count": 40,
   "id": "8c996445-0d89-4127-8c29-46fd83018072",
   "metadata": {},
   "outputs": [
    {
     "name": "stdout",
     "output_type": "stream",
     "text": [
      "The subjects' mean age was 39.13 ± 14.48 with a range of 18-66.\n"
     ]
    }
   ],
   "source": [
    "mean = subjs['age'].mean()\n",
    "min_ = subjs['age'].min()\n",
    "max_ = subjs['age'].max()\n",
    "std = subjs['age'].std()\n",
    "\n",
    "print(f'The subjects\\' mean age was {round(mean, 2)} ' + u'\\u00B1' + f' {round(std, 2)} with a range of {min_}-{max_}.')"
   ]
  },
  {
   "cell_type": "code",
   "execution_count": null,
   "id": "d68791f3-6935-42f1-a546-11cbff8a3357",
   "metadata": {},
   "outputs": [],
   "source": []
  }
 ],
 "metadata": {
  "kernelspec": {
   "display_name": "Python 3",
   "language": "python",
   "name": "python3"
  },
  "language_info": {
   "codemirror_mode": {
    "name": "ipython",
    "version": 3
   },
   "file_extension": ".py",
   "mimetype": "text/x-python",
   "name": "python",
   "nbconvert_exporter": "python",
   "pygments_lexer": "ipython3",
   "version": "3.9.5"
  }
 },
 "nbformat": 4,
 "nbformat_minor": 5
}
